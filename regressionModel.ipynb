{
 "cells": [
  {
   "cell_type": "markdown",
   "id": "db0e0971",
   "metadata": {},
   "source": [
    "## Regression Data Loading"
   ]
  },
  {
   "cell_type": "code",
   "execution_count": 1,
   "id": "ff616e55",
   "metadata": {},
   "outputs": [],
   "source": [
    "import pandas as pd\n",
    "import numpy as np\n",
    "import matplotlib.pyplot as plt\n",
    "import seaborn as sns\n",
    "from sklearn import linear_model\n",
    "%matplotlib inline\n",
    "pd.set_option('display.max_columns', None)\n",
    "pd.set_option('display.max_rows', None)"
   ]
  },
  {
   "cell_type": "code",
   "execution_count": 2,
   "id": "c5d99ca3",
   "metadata": {
    "scrolled": true
   },
   "outputs": [],
   "source": [
    "# Data -- Site 1\n",
    "dfout_s1 = pd.read_csv('Data/PVData/Site1/PVOut_46834.csv', header=None)\n",
    "dfout_s1 = dfout_s1.drop(axis=1, columns=[3,4,6,7,8,9,10,11,12,13])\n",
    "dfout_s1 = dfout_s1.drop(axis=0, index=[item for item in range(32,49+1)])\n",
    "dfout_s1 = dfout_s1.drop(axis=0, index=[0])\n",
    "dfout_s1 = dfout_s1.loc[::-1].reset_index(drop=True)\n",
    "\n",
    "dfsys_s1 = pd.read_csv('Data/PVData/Site1/PVSystem_46834.csv', header=None)\n",
    "\n",
    "weather_s1 = pd.read_csv('Data/PVData/Site1/NSRDBout_s1.csv', header=None)\n",
    "weather_s1 = weather_s1.drop(axis=0, index=[0,1,2])\n",
    "weather_s1 = weather_s1.drop(axis=1, columns=[item for item in range(14,47)])"
   ]
  },
  {
   "cell_type": "code",
   "execution_count": 3,
   "id": "f87902fd",
   "metadata": {},
   "outputs": [],
   "source": [
    "# Data -- Site 2\n",
    "dfout_s2 = pd.read_csv('Data/PVData/Site2/PVOut_3445.csv', header=None)\n",
    "dfout_s2 = dfout_s2.drop(axis=1, columns=[3,4,6,7,8,9,10,11,12,13])\n",
    "dfout_s2 = dfout_s2.loc[::-1].reset_index(drop=True)\n",
    "\n",
    "dfsys_s2 = pd.read_csv('Data/PVData/Site2/PVSystem_3445.csv', header=None)\n",
    "\n",
    "weather_s2 = pd.read_csv('Data/PVData/Site2/NSRDBout_s2.csv', header=None)\n",
    "weather_s2 = weather_s2.drop(axis=0, index=[0,1,2])\n",
    "weather_s2 = weather_s2.drop(axis=1, columns=[item for item in range(14,47)])"
   ]
  },
  {
   "cell_type": "code",
   "execution_count": 4,
   "id": "bea5ac3f",
   "metadata": {},
   "outputs": [],
   "source": [
    "def outputPanel(systemCapacity,energyGen):\n",
    "    # We are calculating the output per panel assuming that each panel has a capactiy of 300 Watts\n",
    "    wattage = 300\n",
    "    newPanel = systemCapacity/wattage\n",
    "    outPerPanel = energyGen/newPanel\n",
    "    \n",
    "    return int(round(int(outPerPanel)))"
   ]
  },
  {
   "cell_type": "code",
   "execution_count": 5,
   "id": "434d59b9",
   "metadata": {},
   "outputs": [],
   "source": [
    "# Returns daily averages for meteorlogical data over the course of a specified month\n",
    "## also added the energy output to this dataset\n",
    "# One must specify the MONTH and the NUMBER OF DAYS IN THE MONTH\n",
    "def daily(weatherData,pvOutData,pvSysData,year,month,numOfDaysMonth):\n",
    "    \n",
    "    monthstr = str(month)\n",
    "    \n",
    "    # Start of with monthly dataset\n",
    "    mask = weatherData[2].values == monthstr\n",
    "    pos = np.flatnonzero(mask)\n",
    "    monthData = weatherData.iloc[pos]\n",
    "\n",
    "    dailyData = pd.DataFrame(columns = ['Year','Month','Day','lat','lon','GHI','DHI','DNI',\n",
    "                                        'Energy Gen (watt hr)',\n",
    "                                        'Wind Speed','Temperature','Solar Zenith Angle',\n",
    "                                        'Pressure','Relative Humidity'])    \n",
    "        \n",
    "    # Now the Daily Datasets\n",
    "    for i in range(1, numOfDaysMonth+1):\n",
    "        # Weather Data\n",
    "        dayMask = monthData[3].values == str(i)\n",
    "        pos = np.flatnonzero(dayMask)\n",
    "        dayData = monthData.iloc[pos]\n",
    "            \n",
    "        #PV Data\n",
    "        gen = outputPanel(pvSysData.iloc[0,1], pvOutData.iloc[(i-1),1])\n",
    "        \n",
    "        #PV and Weather Data combined\n",
    "        df2 = pd.DataFrame([{'Year':year, 'Month':month, 'Day':i, \n",
    "                             'lat':pvSysData.iloc[0,13],'lon':pvSysData.iloc[0,14],\n",
    "                             'Energy Gen (watt hr)':gen, \n",
    "                             'GHI':average(dayData,6), 'DHI':average(dayData,7), \n",
    "                             'DNI':average(dayData,8), 'Wind Speed':average(dayData,9), \n",
    "                             'Temperature':average(dayData,10), 'Solar Zenith Angle':average(dayData,11),\n",
    "                             'Pressure':average(dayData,12), 'Relative Humidity':average(dayData,13)}])\n",
    "        \n",
    "        dailyData = dailyData.append(df2, ignore_index=True)\n",
    "        \n",
    "    return dailyData"
   ]
  },
  {
   "cell_type": "code",
   "execution_count": 6,
   "id": "9cc39f2e",
   "metadata": {},
   "outputs": [],
   "source": [
    "def average(data, col):\n",
    "    co = data[col].tolist()\n",
    "    intList = [float(item) for item in co]\n",
    "    avg = sum(intList)/len(intList)\n",
    "    return avg"
   ]
  },
  {
   "cell_type": "code",
   "execution_count": 7,
   "id": "c26f5836",
   "metadata": {},
   "outputs": [],
   "source": [
    "dataset_s1  = daily(weather_s1,dfout_s1,dfsys_s1,2020,5,31)\n",
    "dataset_s2 = daily(weather_s2,dfout_s2,dfsys_s2,2020,6,30)\n",
    "dataset = dataset_s1.append(dataset_s2)"
   ]
  },
  {
   "cell_type": "code",
   "execution_count": 8,
   "id": "865d492c",
   "metadata": {},
   "outputs": [
    {
     "data": {
      "text/plain": [
       "['Year',\n",
       " 'Month',\n",
       " 'Day',\n",
       " 'lat',\n",
       " 'lon',\n",
       " 'GHI',\n",
       " 'DHI',\n",
       " 'DNI',\n",
       " 'Energy Gen (watt hr)',\n",
       " 'Wind Speed',\n",
       " 'Temperature',\n",
       " 'Solar Zenith Angle',\n",
       " 'Pressure',\n",
       " 'Relative Humidity']"
      ]
     },
     "execution_count": 8,
     "metadata": {},
     "output_type": "execute_result"
    }
   ],
   "source": [
    "col = dataset.columns.to_list()\n",
    "col"
   ]
  },
  {
   "cell_type": "markdown",
   "id": "ea84711c",
   "metadata": {},
   "source": [
    "## Prediction Data"
   ]
  },
  {
   "cell_type": "markdown",
   "id": "e146da7a",
   "metadata": {},
   "source": [
    "## Multiple Regression Model"
   ]
  },
  {
   "cell_type": "code",
   "execution_count": 13,
   "id": "91eb85ba",
   "metadata": {},
   "outputs": [],
   "source": [
    "# load in variables\n",
    "x = dataset[['GHI','Relative Humidity','Pressure','Temperature','Solar Zenith Angle','Wind Speed','DNI','DHI']]\n",
    "y = dataset['Energy Gen (watt hr)']"
   ]
  },
  {
   "cell_type": "code",
   "execution_count": 14,
   "id": "cfc64630",
   "metadata": {},
   "outputs": [
    {
     "data": {
      "text/plain": [
       "LinearRegression()"
      ]
     },
     "execution_count": 14,
     "metadata": {},
     "output_type": "execute_result"
    }
   ],
   "source": [
    "## Load in regression model\n",
    "regr = linear_model.LinearRegression()\n",
    "regr.fit(x,y)"
   ]
  },
  {
   "cell_type": "code",
   "execution_count": 15,
   "id": "d4e3356b",
   "metadata": {},
   "outputs": [
    {
     "data": {
      "text/plain": [
       "0.930235077024612"
      ]
     },
     "execution_count": 15,
     "metadata": {},
     "output_type": "execute_result"
    }
   ],
   "source": [
    "# r^2 value\n",
    "regr.score(x,y)"
   ]
  },
  {
   "cell_type": "code",
   "execution_count": null,
   "id": "901d8c55",
   "metadata": {},
   "outputs": [],
   "source": []
  }
 ],
 "metadata": {
  "kernelspec": {
   "display_name": "Python 3 (ipykernel)",
   "language": "python",
   "name": "python3"
  },
  "language_info": {
   "codemirror_mode": {
    "name": "ipython",
    "version": 3
   },
   "file_extension": ".py",
   "mimetype": "text/x-python",
   "name": "python",
   "nbconvert_exporter": "python",
   "pygments_lexer": "ipython3",
   "version": "3.9.7"
  }
 },
 "nbformat": 4,
 "nbformat_minor": 5
}
